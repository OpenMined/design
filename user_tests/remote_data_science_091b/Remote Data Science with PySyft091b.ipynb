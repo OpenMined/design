{
 "cells": [
  {
   "cell_type": "markdown",
   "id": "d2d8e64c-9d85-427e-8cff-806aacaba692",
   "metadata": {},
   "source": [
    "# 📉 Answering Questions on Data You Cannot See with PySyft 0.9.1b\n",
    "---"
   ]
  },
  {
   "cell_type": "markdown",
   "id": "9ccfb835-8827-41bb-b99b-cfe3ac8e7515",
   "metadata": {},
   "source": [
    "## 🖼 Scenario"
   ]
  },
  {
   "cell_type": "markdown",
   "id": "80e1679d-b8ad-422d-8f14-4e88764f9c0e",
   "metadata": {},
   "source": [
    "You have been given access to US Stats's Datasite as an external researcher. On their Datasite you have found a dataset that contains information about different famous personalities including occupation, birth year, death year, country and associated country life expectancy. You are wanting to learn more about whether certain trends exist between the age of death and the occupation the famous personality held."
   ]
  },
  {
   "cell_type": "markdown",
   "id": "5f601935-35c3-4679-b846-1b6281114bbe",
   "metadata": {},
   "source": [
    "## 😎 Mission"
   ]
  },
  {
   "cell_type": "markdown",
   "id": "87805733-3d8d-4c7c-99a8-6264c446bd67",
   "metadata": {},
   "source": [
    "Your mission for this exercise is to take on the role of an external researcher and use Pysyft's API to write and submit code requests that answer the following questions:\n",
    "\n",
    "- What are the top 10 occupations with the shortest lifespans?\n",
    "- What is the average lifespan of the occupation with the shortest lifespan?\n",
    "- How does the average lifespan of a \"Politician\" compare to that of the average \"Associated Country Life Expectancy\"?\n",
    "\n",
    "This test consists of two parts.\n",
    "\n",
    "**Part One**\n",
    "- You will need to use the mock data provided on the Datasite to form your code\n",
    "- You will need to submit your code for all 3 questions for review\n",
    "- After you submit your code notify your moderator who will be playing the role of Data Owner\n",
    "\n",
    "**Part Two**\n",
    "- Your moderator will review your code, run it on the real data, and then notify you when your code results are ready\n",
    "- You will need to review the final results and provide your answers to the questions above in the **Mission Response** section\n",
    "\n",
    "_*Disclaimer: The dataset provided has been modified for the purposes of this test and is not an accurate reflection of the [source data](https://workshop-proceedings.icwsm.org/abstract?id=2022_82) collected in the ICWSM workshop_\n",
    "\n",
    "### Helpful Resources\n",
    "- [PySyft Documentation](https://docs.openmined.org/en/latest/index.html)\n",
    "- [PySyft Repo](https://github.com/OpenMined/PySyft)\n",
    "\n",
    "#####\n",
    "---\n"
   ]
  },
  {
   "cell_type": "markdown",
   "id": "a3606f13-9248-4882-b8d3-94842c13b738",
   "metadata": {},
   "source": [
    "# 🖥 Setup Test Environment"
   ]
  },
  {
   "cell_type": "markdown",
   "id": "b2a9db0e-a0b0-4510-943b-063453171bf7",
   "metadata": {},
   "source": [
    "### Run in CoLab (opt)\n",
    "[![Open in Colab](https://colab.research.google.com/assets/colab-badge.svg)](https://colab.research.google.com/github/OpenMined/design/blob/main/user_tests/remote_data_science_091b/Remote%20Data%20Science%20with%20PySyft091b.ipynb) "
   ]
  },
  {
   "cell_type": "markdown",
   "id": "0ca41d70-292b-4479-9c32-49f07582bd29",
   "metadata": {},
   "source": [
    "### 1. Install Syft"
   ]
  },
  {
   "cell_type": "markdown",
   "id": "865923ee-53d6-4f69-9055-b4b4142062d5",
   "metadata": {},
   "source": [
    "Before you begin the test you will need to have PySyft installed. If you do not have PySyft installed you can run the cell below or reference this [Quick Install Guide](https://docs.openmined.org/en/latest/quick_install.html) to get started."
   ]
  },
  {
   "cell_type": "code",
   "execution_count": 1,
   "id": "7adac9eb-0f35-49e4-ae6e-623468f04d60",
   "metadata": {},
   "outputs": [],
   "source": [
    "# The script below will install PySyft(beta) to your machine\n",
    "#!pip install -U syft --pre"
   ]
  },
  {
   "cell_type": "markdown",
   "id": "9b153a78-7321-4e37-8902-8ba05611f1bd",
   "metadata": {},
   "source": [
    "### 2. Deploy Test Env\n",
    "Please run the cells below to deploy a local instance of the test environment."
   ]
  },
  {
   "cell_type": "code",
   "execution_count": 1,
   "id": "dcc22ad6-1789-4fb7-8203-415393bfb2cf",
   "metadata": {},
   "outputs": [],
   "source": [
    "# IMPORT DEPENDENCIES\n",
    "import syft as sy\n",
    "import pandas as pd"
   ]
  },
  {
   "cell_type": "code",
   "execution_count": null,
   "id": "b7981f10-59b3-4e70-bd6d-fb0a19f58d53",
   "metadata": {},
   "outputs": [],
   "source": [
    "# DOWNLOAD TEST SCRIPT\n",
    "!curl -O https://raw.githubusercontent.com/OpenMined/design/main/user_tests/remote_data_science_091b/remote_exec_setup.py"
   ]
  },
  {
   "cell_type": "code",
   "execution_count": 2,
   "id": "1bb59222-b218-41e8-915b-1b2cf9451976",
   "metadata": {},
   "outputs": [
    {
     "name": "stdout",
     "output_type": "stream",
     "text": [
      "Test Environment functions have been created!\n"
     ]
    }
   ],
   "source": [
    "# IMPORT TEST SCRIPT\n",
    "import remote_exec_setup as re_setup"
   ]
  },
  {
   "cell_type": "code",
   "execution_count": 3,
   "id": "ddf1822c-2d80-4f33-84d8-5da408123865",
   "metadata": {},
   "outputs": [
    {
     "name": "stdout",
     "output_type": "stream",
     "text": [
      "Starting U.S. Stats server on 0.0.0.0:8080\n",
      "Waiting for server to start..................."
     ]
    },
    {
     "data": {
      "text/html": [
       "<div class=\"alert-info\" style=\"padding:5px;\"><strong>SyftInfo</strong>: <pre class=\"alert-info\" style=\"display:inline; font-family:inherit;\">You have launched a development server at http://0.0.0.0:8080.It is intended only for local use.</pre></div><br/>"
      ],
      "text/plain": [
       "SyftInfo: You have launched a development server at http://0.0.0.0:8080.It is intended only for local use."
      ]
     },
     "metadata": {},
     "output_type": "display_data"
    }
   ],
   "source": [
    "# lAUNCH lOCAL SERVER\n",
    "server = sy.orchestra.launch(\n",
    "    name = \"U.S. Stats\",\n",
    "    reset=True,\n",
    "    port= 8080\n",
    ")"
   ]
  },
  {
   "cell_type": "code",
   "execution_count": 4,
   "id": "dc8014b5-f0ea-4145-87ff-a2c0ce6cdb49",
   "metadata": {},
   "outputs": [
    {
     "name": "stdout",
     "output_type": "stream",
     "text": [
      "Logged into <U.S. Stats: High side Datasite> as <info@openmined.org>\n"
     ]
    },
    {
     "data": {
      "text/html": [
       "<div class=\"alert-warning\" style=\"padding:5px;\"><strong>SyftWarning</strong>: <pre class=\"alert-warning\" style=\"display:inline; font-family:inherit;\">You are using a default password. Please change the password using `[your_client].account.set_password([new_password])`.</pre></div><br/>"
      ],
      "text/plain": [
       "SyftWarning: You are using a default password. Please change the password using `[your_client].account.set_password([new_password])`."
      ]
     },
     "metadata": {},
     "output_type": "display_data"
    },
    {
     "name": "stdout",
     "output_type": "stream",
     "text": [
      "Admin Moderator Chan has been created! (1/2)\n",
      "Datasite profile has been updated! (2/2)\n"
     ]
    }
   ],
   "source": [
    "# CREATE ADMIN PROFILE & DATASITE PROFILE\n",
    "re_setup.setup_datasite(port= 8080)"
   ]
  },
  {
   "cell_type": "code",
   "execution_count": 5,
   "id": "2ccfd4a9-353e-4cde-8da4-17cd571a1e17",
   "metadata": {},
   "outputs": [
    {
     "name": "stdout",
     "output_type": "stream",
     "text": [
      "Loading data from 'github.com/OpenMined/design/user_tests/remote_data_science_091b/assets'...\n",
      "Data has been locally loaded! (1/4)\n",
      "Defining dataset metadata...\n",
      "Dataset metadata has been defined! (2/4)\n",
      "Logged into <U.S. Stats: High side Datasite> as <info@openmined.org>\n"
     ]
    },
    {
     "data": {
      "text/html": [
       "<div class=\"alert-warning\" style=\"padding:5px;\"><strong>SyftWarning</strong>: <pre class=\"alert-warning\" style=\"display:inline; font-family:inherit;\">You are using a default password. Please change the password using `[your_client].account.set_password([new_password])`.</pre></div><br/>"
      ],
      "text/plain": [
       "SyftWarning: You are using a default password. Please change the password using `[your_client].account.set_password([new_password])`."
      ]
     },
     "metadata": {},
     "output_type": "display_data"
    },
    {
     "name": "stderr",
     "output_type": "stream",
     "text": [
      "Uploading: Subsample for study: 100%|\u001b[32m██████████\u001b[0m| 1/1 [00:06<00:00,  6.72s/it]\n"
     ]
    },
    {
     "name": "stdout",
     "output_type": "stream",
     "text": [
      "Test datasets have been uploaded to US Stats datasite! (3/4)\n",
      "Creating Data Scientist account...\n",
      "Data Scientist account created! (4/4)\n",
      "You may now begin the test!\n"
     ]
    }
   ],
   "source": [
    "# UPLOAD DATASETS TO DATASITE\n",
    "# This may take a second as it loads the data.\n",
    "re_setup.upload_datasets(port= 8080)"
   ]
  },
  {
   "cell_type": "markdown",
   "id": "8296b349-54bc-49ba-b3f7-f1569f4bc915",
   "metadata": {},
   "source": [
    "---"
   ]
  },
  {
   "cell_type": "markdown",
   "id": "90c88460-e210-4c40-9208-5b7479d94750",
   "metadata": {},
   "source": [
    "# 🚩 Begin Mission!"
   ]
  },
  {
   "cell_type": "markdown",
   "id": "db59ecc8-c168-45b8-92f0-f788d21c7cf4",
   "metadata": {},
   "source": [
    "### Part One\n",
    "With the aim of answering the questions listed in the Mission section, please form your code and then submit it for review. If you get stuck you can use [PySyft's Documentation Site](https://docs.openmined.org/en/latest/getting-started/part3-research-study.html) for assistance."
   ]
  },
  {
   "cell_type": "code",
   "execution_count": null,
   "id": "ff5b431d-3c89-4cf2-a0fd-2a4f8e2e3ebb",
   "metadata": {},
   "outputs": [],
   "source": [
    "# Login to the Datasite as a \"Data Scientist\" user\n",
    "ds_client = sy.login(email=\"ds_tester@openmined.org\", password=\"probetatester\", port=8080)"
   ]
  },
  {
   "cell_type": "code",
   "execution_count": null,
   "id": "133d8c8a-8736-4884-bf7d-bc0997fbc023",
   "metadata": {},
   "outputs": [],
   "source": [
    "# Begin mission to investigate occupation and lifespan\n"
   ]
  },
  {
   "cell_type": "code",
   "execution_count": null,
   "id": "092255df-5cc5-40df-af7c-0d1da2496d6e",
   "metadata": {},
   "outputs": [],
   "source": []
  },
  {
   "cell_type": "code",
   "execution_count": null,
   "id": "0dcd613a-f0a7-4ecc-9091-a3c4ca26d741",
   "metadata": {},
   "outputs": [],
   "source": []
  },
  {
   "cell_type": "code",
   "execution_count": null,
   "id": "728a143e-509c-45ce-b0fa-9fc274e0ee4b",
   "metadata": {},
   "outputs": [],
   "source": []
  },
  {
   "cell_type": "code",
   "execution_count": null,
   "id": "aeae9b6d-5f8d-4342-b459-727d4fca35be",
   "metadata": {},
   "outputs": [],
   "source": []
  },
  {
   "cell_type": "code",
   "execution_count": null,
   "id": "a23ef89f-5e27-49fe-95f1-5160b97fb032",
   "metadata": {},
   "outputs": [],
   "source": []
  },
  {
   "cell_type": "code",
   "execution_count": null,
   "id": "f66404b5-8eb4-4e97-a130-50d67c8939dd",
   "metadata": {},
   "outputs": [],
   "source": []
  },
  {
   "cell_type": "code",
   "execution_count": null,
   "id": "edc3bd49-7005-43e8-9201-a58d8f4c1c85",
   "metadata": {},
   "outputs": [],
   "source": []
  },
  {
   "cell_type": "code",
   "execution_count": null,
   "id": "d6e1b09d-f586-4211-8cae-4f78a1eae9dd",
   "metadata": {},
   "outputs": [],
   "source": [
    "# Add as many cells as you need ^_^"
   ]
  },
  {
   "cell_type": "markdown",
   "id": "0e6554fe-7cf9-434b-8e57-2ca67c6d9af2",
   "metadata": {},
   "source": [
    "### End Part One 🙌\n",
    "Great job! Now that you have submitted your code for review, please run the cell below before proceeding. If you run into any issues please notify your moderator."
   ]
  },
  {
   "cell_type": "code",
   "execution_count": null,
   "id": "403b57ee-7638-4e07-8dd2-507e45fb3674",
   "metadata": {},
   "outputs": [],
   "source": [
    "# Run Data Owner Review Script\n",
    "re_setup.data_owner_response(port= 8080)\n"
   ]
  },
  {
   "cell_type": "markdown",
   "id": "75a0efd3-a4f7-405d-95e5-2bd48d1d26f6",
   "metadata": {},
   "source": [
    "---\n",
    "### Part Two\n",
    "The Data Owner has reviewed your code and uploaded the corresponding results. You are now able to review the results and answer the Mission questions in the **Mission Response** section. If you get stuck you can use [PySyft's Documentation Site](https://docs.openmined.org/en/latest/getting-started/part3-research-study.html) for assistance."
   ]
  },
  {
   "cell_type": "code",
   "execution_count": null,
   "id": "3a4814bd-9b24-4c26-bdb6-45fe780874ec",
   "metadata": {},
   "outputs": [],
   "source": [
    "# Login to the Datasite as a Data Scientist\n",
    "ds_client = sy.login(email=\"ds_tester@openmined.org\", password=\"probetatester\", port=8080)"
   ]
  },
  {
   "cell_type": "code",
   "execution_count": null,
   "id": "5b27944e-4f08-486c-8f40-51bad264fd80",
   "metadata": {},
   "outputs": [],
   "source": []
  },
  {
   "cell_type": "code",
   "execution_count": null,
   "id": "c6a54e34-fbfb-45bf-83cd-9d751ef99e12",
   "metadata": {},
   "outputs": [],
   "source": []
  },
  {
   "cell_type": "code",
   "execution_count": null,
   "id": "f1fd0bc0-59e8-468c-86c1-d39e63b7080b",
   "metadata": {},
   "outputs": [],
   "source": []
  },
  {
   "cell_type": "code",
   "execution_count": null,
   "id": "2b47022a-6e09-4886-972a-1ff55519b40c",
   "metadata": {},
   "outputs": [],
   "source": []
  },
  {
   "cell_type": "code",
   "execution_count": null,
   "id": "98800cf5-71d3-4448-bc48-fbf9b7954032",
   "metadata": {},
   "outputs": [],
   "source": [
    "# Add as many cells as you need ^_^"
   ]
  },
  {
   "cell_type": "markdown",
   "id": "5f830fd8-e378-4447-99db-66a1c51ffd89",
   "metadata": {},
   "source": [
    "### End Part Two 🙌\n",
    "Great job! Now that you have gotten the results to your code, please answer the **Mission Response** section below to complete the test. "
   ]
  },
  {
   "cell_type": "markdown",
   "id": "b7e52a03-269c-4f7a-92fa-e530750c1088",
   "metadata": {},
   "source": [
    "#####\n",
    "---\n",
    "## ✏ Post-Test Response\n",
    "### 1. Mission Response"
   ]
  },
  {
   "cell_type": "markdown",
   "id": "b3c0f53f-e9f9-4d5f-a0fa-14f91d62d3e5",
   "metadata": {},
   "source": [
    "__What were the top 10 occupations with the shortest lifespans?__\n",
    "- _Answer here_"
   ]
  },
  {
   "cell_type": "markdown",
   "id": "7b6c342d-ca00-497f-9f5b-9c4611437cb9",
   "metadata": {},
   "source": [
    "__What was the average lifespan of the occupation with the shortest lifespan?__\n",
    "- _Answer here_"
   ]
  },
  {
   "cell_type": "markdown",
   "id": "5ae9c5a3-0910-4c79-bf6c-77a7aad08c62",
   "metadata": {},
   "source": [
    "__Is the average lifespan of a \"Politician\" higher or lower than that of the average \"Associated Country Life Expectancy\"?__\n",
    "- _Answer here_"
   ]
  },
  {
   "cell_type": "markdown",
   "id": "0783ec45-b205-4ac2-9413-7c43313cf6d3",
   "metadata": {},
   "source": [
    "### 2. Post-Test Survey"
   ]
  },
  {
   "cell_type": "markdown",
   "id": "4b2ee796-b3c9-4310-9ec7-d3bcd6fea196",
   "metadata": {},
   "source": [
    "Please **upload your notebook** and tell us about your experience in the [**→→ form here ←←**](https://forms.gle/jjtYQqttPTR55fkr8) to conclude the test.\n"
   ]
  },
  {
   "cell_type": "markdown",
   "id": "e9b688ac-e489-4ba1-9da2-eb1fee0d30a4",
   "metadata": {},
   "source": [
    "#####\n",
    "### 🛑 Shutdown Test Environment\n",
    "Run the cell below to shutdown the local instance of the test environment."
   ]
  },
  {
   "cell_type": "code",
   "execution_count": 7,
   "id": "1bfb3926-f074-4bb2-9df1-1993e2be998a",
   "metadata": {},
   "outputs": [
    {
     "name": "stdout",
     "output_type": "stream",
     "text": [
      "Stopping U.S. Stats\n"
     ]
    }
   ],
   "source": [
    "# The following command will shutdown the local test server\n",
    "server.land()"
   ]
  },
  {
   "cell_type": "code",
   "execution_count": null,
   "id": "15116f62-eb94-45b9-94b6-efcc62e548d8",
   "metadata": {},
   "outputs": [],
   "source": []
  }
 ],
 "metadata": {
  "kernelspec": {
   "display_name": "syft_090",
   "language": "python",
   "name": "syft_090"
  },
  "language_info": {
   "codemirror_mode": {
    "name": "ipython",
    "version": 3
   },
   "file_extension": ".py",
   "mimetype": "text/x-python",
   "name": "python",
   "nbconvert_exporter": "python",
   "pygments_lexer": "ipython3",
   "version": "3.12.3"
  }
 },
 "nbformat": 4,
 "nbformat_minor": 5
}
