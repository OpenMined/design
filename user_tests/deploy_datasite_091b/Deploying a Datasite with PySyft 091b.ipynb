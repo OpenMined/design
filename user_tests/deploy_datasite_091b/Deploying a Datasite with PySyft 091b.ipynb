{
 "cells": [
  {
   "cell_type": "markdown",
   "id": "3e3244f7-461f-4849-9c14-d8abcfeeb70e",
   "metadata": {},
   "source": [
    "# 🚀 Deploying a Datasite with PySyft 0.9.1b"
   ]
  },
  {
   "cell_type": "markdown",
   "id": "3c4da6ad-46ed-4e41-b465-2cc795dc56c2",
   "metadata": {},
   "source": [
    "Thank you for being a PySyft beta tester! 🙌 Please read the scenario below and complete the mission to the best of your abilities. If this is an unmoderated test and you encounter issues that block all progress please message your moderator for additional assistance."
   ]
  },
  {
   "cell_type": "markdown",
   "id": "40a62988-1ce8-450b-894d-53be0ca4e475",
   "metadata": {},
   "source": [
    "---"
   ]
  },
  {
   "cell_type": "markdown",
   "id": "02a58d77-f61c-4848-aa56-963a5955ccf6",
   "metadata": {},
   "source": [
    "## 🖼 Scenario"
   ]
  },
  {
   "cell_type": "markdown",
   "id": "3caca4d6-d1ea-4f31-bdd5-970ee0211e53",
   "metadata": {},
   "source": [
    "You are currently working for the U.S. Census Bureau. You've just finished collecting and cleaning data gathered from the Bureau's 2024 American survey. You want to open it up for public research use by launching a public-facing Datasite (referred to as a lowside Datasite). "
   ]
  },
  {
   "cell_type": "markdown",
   "id": "c4394276-4092-4a2c-af68-8d82b9f69a34",
   "metadata": {},
   "source": [
    "## 😎 Mission"
   ]
  },
  {
   "cell_type": "markdown",
   "id": "050e8181-ae72-42fc-ae12-013b455a25f4",
   "metadata": {},
   "source": [
    "Your mission for this exercise is to use [Syft’s Deployment Documentation](https://docs.openmined.org/en/latest/deployment/deployment-doc-4-0-container-based-deployment.html) to launch a lowside Datasite using a single-container deployment. The Datasite will need:\n",
    "\n",
    "- To be launched using a local machine or VM\n",
    "- Will need to be named\n",
    "- Will need you to login to confirm deployment\n",
    "\n",
    "Please use this notebook to make notes and comments about your approach and any issues as you go. After you have successfully deployed your Datasite or if you have found that you are unable to deploy a Datasite please answer the “**Post-Test**” section at the bottom of this notebook and then notify your moderator."
   ]
  },
  {
   "cell_type": "markdown",
   "id": "13daab30-3c69-43b5-8394-d749e5150d0d",
   "metadata": {},
   "source": [
    "### Helpful Resources\n",
    "- [PySyft Documentation](https://docs.openmined.org/en/latest/index.html)\n",
    "- [PySyft Repo](https://github.com/OpenMined/PySyft)"
   ]
  },
  {
   "cell_type": "markdown",
   "id": "e7b7e5b0-ffdd-49da-8762-1a3307c31480",
   "metadata": {},
   "source": [
    "\n",
    "---\n"
   ]
  },
  {
   "cell_type": "markdown",
   "id": "24f58864-fa76-44ef-806b-34dd4a8f1f70",
   "metadata": {},
   "source": [
    "## 😎 Mission Response"
   ]
  },
  {
   "cell_type": "markdown",
   "id": "79e5b92c-efa6-46ad-9c33-9ff01c268337",
   "metadata": {},
   "source": [
    "In the cells below please take notes on your approach to the above **Scenario** along with any comments you'd like to make about your experience."
   ]
  },
  {
   "cell_type": "markdown",
   "id": "2ae29761-ee92-44e5-8f4e-0eb4ae7fbba0",
   "metadata": {},
   "source": [
    "If you did not fill out the sign-up form then please include answers to the following in your notes:\n",
    "- What OS are you using?\n",
    "- How experienced are you with Python?\n",
    "- How experienced are you with containers?"
   ]
  },
  {
   "cell_type": "code",
   "execution_count": 1,
   "id": "5a2bf0bb-6e89-4b59-9d27-adf9014640a3",
   "metadata": {},
   "outputs": [],
   "source": [
    "# Take notes here\n"
   ]
  },
  {
   "cell_type": "markdown",
   "id": "c28e2f12-6c11-42f3-8562-5cff6033e9b2",
   "metadata": {},
   "source": [
    "\n",
    "---\n"
   ]
  },
  {
   "cell_type": "markdown",
   "id": "737d9a39-8826-4326-8e65-93ed6a06f73d",
   "metadata": {},
   "source": [
    "## ✏ Post-Test Response"
   ]
  },
  {
   "cell_type": "markdown",
   "id": "3a4e6f1e-0380-4a94-939b-00909a87fba7",
   "metadata": {},
   "source": [
    "### 1. Post-Test Survey\n",
    "Please **upload your Mission Response notebook** [**→→ form here ←←**](https://forms.gle/t2bQjvtjPxyPfhGM9) to conclude the test."
   ]
  },
  {
   "cell_type": "markdown",
   "id": "15b37ff5-80ee-4d41-9861-7cbdc3ec40a9",
   "metadata": {},
   "source": [
    "\n",
    "---\n",
    "\n",
    "## Thank You! 🙏\n",
    "On behalf of the User Research Team here at OpenMined, thank you for your insight, your time, and your contributions. "
   ]
  },
  {
   "cell_type": "markdown",
   "id": "b1767d9b-227d-4fd6-93df-a85039dfd2fb",
   "metadata": {},
   "source": [
    "<img src=\"https://i.giphy.com/media/v1.Y2lkPTc5MGI3NjExOG85MXRzenkycWN2Mnp2cWl3ODBzMTVscnhmb2U2bGRrNnQ4YzY3eCZlcD12MV9pbnRlcm5hbF9naWZfYnlfaWQmY3Q9Zw/IL4iTvQH0MjS/giphy.gif\" width=\"400\" height=\"400\">"
   ]
  },
  {
   "cell_type": "code",
   "execution_count": null,
   "id": "660b989a-9ab6-449d-9166-3b3e8ba5aa7f",
   "metadata": {},
   "outputs": [],
   "source": []
  }
 ],
 "metadata": {
  "kernelspec": {
   "display_name": "Python 3 (ipykernel)",
   "language": "python",
   "name": "python3"
  },
  "language_info": {
   "codemirror_mode": {
    "name": "ipython",
    "version": 3
   },
   "file_extension": ".py",
   "mimetype": "text/x-python",
   "name": "python",
   "nbconvert_exporter": "python",
   "pygments_lexer": "ipython3",
   "version": "3.12.3"
  }
 },
 "nbformat": 4,
 "nbformat_minor": 5
}
