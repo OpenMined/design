{
 "cells": [
  {
   "cell_type": "markdown",
   "id": "d2d8e64c-9d85-427e-8cff-806aacaba692",
   "metadata": {},
   "source": [
    "# 🔎 Finding Datasets with PySyft 0.9.1b\n",
    "---"
   ]
  },
  {
   "cell_type": "markdown",
   "id": "9ccfb835-8827-41bb-b99b-cfe3ac8e7515",
   "metadata": {},
   "source": [
    "## 🖼 Scenario"
   ]
  },
  {
   "cell_type": "markdown",
   "id": "80e1679d-b8ad-422d-8f14-4e88764f9c0e",
   "metadata": {},
   "source": [
    "You are currently conducting a project to understand the relationship between the percentage of jobs within the private sector and the percentage of people living under the poverty level amongst U.S. citizens in the year 2015. Additionally you want to investigate the relationship of gender within those above the poverty line and those below. You have been given access to a statistics Datasite called US Stats to find datasets that can aid you in your research."
   ]
  },
  {
   "cell_type": "markdown",
   "id": "5f601935-35c3-4679-b846-1b6281114bbe",
   "metadata": {},
   "source": [
    "## 😎 Mission"
   ]
  },
  {
   "cell_type": "markdown",
   "id": "87805733-3d8d-4c7c-99a8-6264c446bd67",
   "metadata": {},
   "source": [
    "Your mission for this exercise is to use Syft’s Python API to explore the US Stats Datasite and find dataset(s) that best fit your study. While you search  keep an eye out for …\n",
    "- Relevance\n",
    "- Quality\n",
    "- Trustworthiness\n",
    "- Representation\n",
    "- Datasets that are available for academic research\n",
    "\n",
    "Please # comment explaining your process as you go. After you have found dataset(s) that you believe would fit your study, please list them in the __“Mission Response”__ section at the bottom of this notebook. When you are done please answer the __“Post-Test”__ section at the bottom of this notebook and then notify your moderator.\n",
    "\n",
    "_Disclaimer: The datasets provided have been modified for the purposes of this test and are not an accurate reflection of the source data collected by the U.S. Census Bureau or any other contributors mentioned therein._\n",
    "\n",
    "### Helpful Resources\n",
    "- [PySyft Documentation](https://docs.openmined.org/en/latest/index.html)\n",
    "- [PySyft Repo](https://github.com/OpenMined/PySyft)\n",
    "\n",
    "#####\n",
    "---\n"
   ]
  },
  {
   "cell_type": "markdown",
   "id": "a3606f13-9248-4882-b8d3-94842c13b738",
   "metadata": {},
   "source": [
    "# 🖥 Setup Test Environment"
   ]
  },
  {
   "cell_type": "markdown",
   "id": "28af556e-ca58-4929-8579-d667da3d6e82",
   "metadata": {},
   "source": [
    "### Run in CoLab (opt)\n",
    "[![Open in Colab](https://colab.research.google.com/assets/colab-badge.svg)](https://colab.research.google.com/github/OpenMined/design/blob/main/user_tests/finding_data_091b/Finding%20Datasets%20with%20PySyft091b.ipynb) "
   ]
  },
  {
   "cell_type": "markdown",
   "id": "0ca41d70-292b-4479-9c32-49f07582bd29",
   "metadata": {},
   "source": [
    "### 1. Install Syft"
   ]
  },
  {
   "cell_type": "markdown",
   "id": "865923ee-53d6-4f69-9055-b4b4142062d5",
   "metadata": {},
   "source": [
    "Before you begin the test you will need to have PySyft installed. If you do not have PySyft installed you can run the cell below or reference this [Quick Install Guide](https://docs.openmined.org/en/latest/quick_install.html) to get started."
   ]
  },
  {
   "cell_type": "code",
   "execution_count": 1,
   "id": "6d21c46c-d5e6-46b7-9f4d-11172b7e6466",
   "metadata": {},
   "outputs": [],
   "source": [
    "# The script below will install PySyft(beta) to your machine\n",
    "#!pip install -U syft --pre"
   ]
  },
  {
   "cell_type": "markdown",
   "id": "9b153a78-7321-4e37-8902-8ba05611f1bd",
   "metadata": {},
   "source": [
    "### 2. Deploy Test Env\n",
    "Please run the cells below to deploy a local instance of the test environment."
   ]
  },
  {
   "cell_type": "code",
   "execution_count": null,
   "id": "5e37bb24-88f4-4740-bd9d-be531f161336",
   "metadata": {},
   "outputs": [],
   "source": [
    "# IMPORT DEPENDENCIES\n",
    "import syft as sy\n",
    "import pandas as pd\n",
    "\n",
    "# DOWNLOAD \"finding_data_setup\" TEST SCRIPT\n",
    "!curl -O https://raw.githubusercontent.com/OpenMined/design/main/user_tests/finding_data_091b/finding_data_setup.py\n",
    "\n",
    "# IMPORT TEST SCRIPT\n",
    "import finding_data_setup as fd_setup\n",
    "\n",
    "# lAUNCH lOCAL SERVER\n",
    "server = sy.orchestra.launch(\n",
    "    name = \"U.S. Stats\",\n",
    "    reset=True,\n",
    "    port= 8080\n",
    ")\n",
    "\n",
    "# CREATE ADMIN PROFILE & DATASITE PROFILE\n",
    "fd_setup.setup_datasite(port= 8080)\n",
    "\n",
    "# UPLOAD DATASETS TO DATASITE\n",
    "# This may take a second as it loads the data.\n",
    "fd_setup.upload_datasets(port= 8080)"
   ]
  },
  {
   "cell_type": "markdown",
   "id": "8296b349-54bc-49ba-b3f7-f1569f4bc915",
   "metadata": {},
   "source": [
    "---"
   ]
  },
  {
   "cell_type": "markdown",
   "id": "90c88460-e210-4c40-9208-5b7479d94750",
   "metadata": {},
   "source": [
    "# 🚩 Begin Mission!"
   ]
  },
  {
   "cell_type": "markdown",
   "id": "db59ecc8-c168-45b8-92f0-f788d21c7cf4",
   "metadata": {},
   "source": [
    "### 1. Begin Searching"
   ]
  },
  {
   "cell_type": "code",
   "execution_count": null,
   "id": "ff5b431d-3c89-4cf2-a0fd-2a4f8e2e3ebb",
   "metadata": {},
   "outputs": [],
   "source": [
    "# Login to the Datasite as a guest user\n",
    "guest= sy.login_as_guest(port=8080)"
   ]
  },
  {
   "cell_type": "code",
   "execution_count": null,
   "id": "133d8c8a-8736-4884-bf7d-bc0997fbc023",
   "metadata": {},
   "outputs": [],
   "source": [
    "# Begin mission to search for datasets\n",
    "guest"
   ]
  },
  {
   "cell_type": "code",
   "execution_count": 1,
   "id": "d6e1b09d-f586-4211-8cae-4f78a1eae9dd",
   "metadata": {},
   "outputs": [],
   "source": [
    "# Add as many cells as you need ^_^"
   ]
  },
  {
   "cell_type": "markdown",
   "id": "b7e52a03-269c-4f7a-92fa-e530750c1088",
   "metadata": {},
   "source": [
    "#####\n",
    "---\n",
    "## ✏ Post-Test Response\n",
    "### 1. Mission Response\n",
    "In a cell below please list the dataset(s) you think would best suit the research question posed above in the **Scenario**."
   ]
  },
  {
   "cell_type": "code",
   "execution_count": null,
   "id": "cd7726cc-4182-46b9-bc0a-e0c6b999cfe4",
   "metadata": {},
   "outputs": [],
   "source": [
    "# List datasets here\n"
   ]
  },
  {
   "cell_type": "markdown",
   "id": "0783ec45-b205-4ac2-9413-7c43313cf6d3",
   "metadata": {},
   "source": [
    "### 2. Post-Test Survey"
   ]
  },
  {
   "cell_type": "markdown",
   "id": "4b2ee796-b3c9-4310-9ec7-d3bcd6fea196",
   "metadata": {},
   "source": [
    "Please **upload your notebook** and tell us about your experience in the [**→→ form here ←←**](https://forms.gle/9HqucvjuHaKEuz777) to conclude the test.\n"
   ]
  },
  {
   "cell_type": "markdown",
   "id": "e9b688ac-e489-4ba1-9da2-eb1fee0d30a4",
   "metadata": {},
   "source": [
    "#####\n",
    "### 🛑 Shutdown Test Environment\n",
    "Run the cell below to shutdown the local instance of the test environment."
   ]
  },
  {
   "cell_type": "code",
   "execution_count": null,
   "id": "1bfb3926-f074-4bb2-9df1-1993e2be998a",
   "metadata": {},
   "outputs": [],
   "source": [
    "# The following command will shutdown the local test server\n",
    "server.land()"
   ]
  }
 ],
 "metadata": {
  "kernelspec": {
   "display_name": "syft_090",
   "language": "python",
   "name": "syft_090"
  },
  "language_info": {
   "codemirror_mode": {
    "name": "ipython",
    "version": 3
   },
   "file_extension": ".py",
   "mimetype": "text/x-python",
   "name": "python",
   "nbconvert_exporter": "python",
   "pygments_lexer": "ipython3",
   "version": "3.12.3"
  }
 },
 "nbformat": 4,
 "nbformat_minor": 5
}
