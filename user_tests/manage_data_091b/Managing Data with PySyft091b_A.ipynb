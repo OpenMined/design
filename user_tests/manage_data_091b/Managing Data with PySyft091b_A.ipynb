{
 "cells": [
  {
   "cell_type": "markdown",
   "id": "d2d8e64c-9d85-427e-8cff-806aacaba692",
   "metadata": {},
   "source": [
    "# 🏷 Managing Data with PySyft 0.9.1b\n",
    "---"
   ]
  },
  {
   "cell_type": "markdown",
   "id": "9ccfb835-8827-41bb-b99b-cfe3ac8e7515",
   "metadata": {},
   "source": [
    "## 🖼 Scenario"
   ]
  },
  {
   "cell_type": "markdown",
   "id": "80e1679d-b8ad-422d-8f14-4e88764f9c0e",
   "metadata": {},
   "source": [
    "You have collected a dataset that contains information about different individuals their lifespans and their occupations. Originally your group collected it because you wanted to use machine learning and text mining models to collect, predict, and cleanse different countrys' census data with a focus on age and gender. Using a 5-step method your team inferred birth and death years, binary gender, and occupation from citizen-submitted data across differing national statistic office programs and news sites.\n",
    "\n",
    "In the end your dataset includes data on individuals from a variety of social groups, including but not limited to 107k females, 124 non-binary people, and 90k researchers, who are spread across more than 300 regions. You want to share it with other researchers because you feel that several fields of study could benefit from a large, structured, and accurate dataset about occupation and lifespan but you do not want to expose any individual in the dataset."
   ]
  },
  {
   "cell_type": "markdown",
   "id": "5f601935-35c3-4679-b846-1b6281114bbe",
   "metadata": {},
   "source": [
    "## 😎 Mission"
   ]
  },
  {
   "cell_type": "markdown",
   "id": "87805733-3d8d-4c7c-99a8-6264c446bd67",
   "metadata": {},
   "source": [
    "Your mission for this exercise is to protect the sensitive aspects of the dataset (_described below_) while allowing an external research to answer pertinent research questions off of the data. This mission consists of two parts.\n",
    "\n",
    "**Part One:**\n",
    "- You will have to create mock data out of the dataset provided\n",
    "- You will have to upload the dataset and corresponding mock data to the Datasite provided\n",
    "\n",
    "**Part Two**\n",
    "- The _*External Researcher_ will submit 3 code requests for you to review\n",
    "- You will need to review each request and decide whether to \"Approve\" or \"Deny\" them\n",
    "\n",
    "\\*_For the purposes of this test the 'External Researcher' role will be played by our data scientist bot or by your moderator_\n",
    "\n",
    "**Sensitive Properties**\n",
    "We want to help the external researcher answer their questions while preventing information that is sensitive from being shared. For the purposes of this test we can assume that the true values of the following properties are sensitive and therefore, should not be shared with the external researcher...\n",
    "- the \"Birth year\"\n",
    "- the \"Death year\"\n",
    "- the \"Name\"\n",
    "\n",
    "_*Disclaimer: The dataset provided has been modified for the purposes of this test and is not an accurate reflection of the [source data](https://workshop-proceedings.icwsm.org/abstract?id=2022_82) collected in the ICWSM workshop_\n",
    "\n",
    "### Helpful Resources\n",
    "- [PySyft Documentation](https://docs.openmined.org/en/latest/index.html)\n",
    "- [PySyft Repo](https://github.com/OpenMined/PySyft)\n",
    "\n",
    "#####\n",
    "---\n"
   ]
  },
  {
   "cell_type": "markdown",
   "id": "a3606f13-9248-4882-b8d3-94842c13b738",
   "metadata": {},
   "source": [
    "# 🖥 Setup Test Environment"
   ]
  },
  {
   "cell_type": "markdown",
   "id": "f77e56ac-6489-42b8-81af-7fa93b68cf97",
   "metadata": {},
   "source": [
    "### Run in CoLab (opt)\n",
    "[![Open in Colab](https://colab.research.google.com/assets/colab-badge.svg)](https://colab.research.google.com/github/OpenMined/design/blob/main/user_tests/manage_data_091b/Managing%20Data%20with%20PySyft091b_A.ipynb) "
   ]
  },
  {
   "cell_type": "markdown",
   "id": "0ca41d70-292b-4479-9c32-49f07582bd29",
   "metadata": {},
   "source": [
    "### 1. Install Syft"
   ]
  },
  {
   "cell_type": "markdown",
   "id": "865923ee-53d6-4f69-9055-b4b4142062d5",
   "metadata": {},
   "source": [
    "Before you begin the test you will need to have PySyft installed. If you do not have PySyft installed you can run the cell below or reference this [Quick Install Guide](https://docs.openmined.org/en/latest/quick_install.html) to get started."
   ]
  },
  {
   "cell_type": "code",
   "execution_count": null,
   "id": "42cc6898-75df-450f-8152-7a045cab523e",
   "metadata": {},
   "outputs": [],
   "source": [
    "# The script below will install PySyft(beta) to your machine\n",
    "#!pip install -U syft --pre"
   ]
  },
  {
   "cell_type": "markdown",
   "id": "9b153a78-7321-4e37-8902-8ba05611f1bd",
   "metadata": {},
   "source": [
    "### 2. Deploy Test Env\n",
    "Please run the cells below to deploy a local instance of the test environment."
   ]
  },
  {
   "cell_type": "code",
   "execution_count": null,
   "id": "dcc22ad6-1789-4fb7-8203-415393bfb2cf",
   "metadata": {},
   "outputs": [],
   "source": [
    "# IMPORT DEPENDENCIES\n",
    "import syft as sy\n",
    "import pandas as pd"
   ]
  },
  {
   "cell_type": "code",
   "execution_count": null,
   "id": "b7981f10-59b3-4e70-bd6d-fb0a19f58d53",
   "metadata": {},
   "outputs": [],
   "source": [
    "# DOWNLOAD TEST SCRIPT\n",
    "!curl -O https://raw.githubusercontent.com/OpenMined/design/main/user_tests/manage_data_091b/manage_data_setup_a.py"
   ]
  },
  {
   "cell_type": "code",
   "execution_count": null,
   "id": "ebc3d01f-2436-4633-b62b-83bdb095df18",
   "metadata": {},
   "outputs": [],
   "source": [
    "# IMPORT TEST SCRIPT\n",
    "import manage_data_setup_a as md_setup"
   ]
  },
  {
   "cell_type": "code",
   "execution_count": null,
   "id": "ddf1822c-2d80-4f33-84d8-5da408123865",
   "metadata": {},
   "outputs": [],
   "source": [
    "# lAUNCH lOCAL SERVER\n",
    "server = sy.orchestra.launch(\n",
    "    name = \"U.S. Stats\",\n",
    "    reset=True,\n",
    "    port= 8080\n",
    ")"
   ]
  },
  {
   "cell_type": "code",
   "execution_count": null,
   "id": "75aeb456-ad48-4ed2-95a6-cc6e79f6c4a9",
   "metadata": {},
   "outputs": [],
   "source": [
    "# CREATE EXTERNAL RESEARCHER PROFILE\n",
    "md_setup.create_user(port=8080)"
   ]
  },
  {
   "cell_type": "markdown",
   "id": "8296b349-54bc-49ba-b3f7-f1569f4bc915",
   "metadata": {},
   "source": [
    "---"
   ]
  },
  {
   "cell_type": "markdown",
   "id": "90c88460-e210-4c40-9208-5b7479d94750",
   "metadata": {},
   "source": [
    "# 🚩 Begin Mission!"
   ]
  },
  {
   "cell_type": "markdown",
   "id": "db59ecc8-c168-45b8-92f0-f788d21c7cf4",
   "metadata": {},
   "source": [
    "### Part One\n",
    "With the aim of uploading your dataset in a way that an external researcher can form their research question but not view any sensitive information from it; please begin **part one** of your mission below. The dataset you will be using is linked below. Assistance with uploading data and creating mock data can be found using [PySyft's Documentation Site](https://docs.openmined.org/en/latest/getting-started/part3-research-study.html).\n",
    "- [**Test Dataset**](www.openmined.org)."
   ]
  },
  {
   "cell_type": "code",
   "execution_count": null,
   "id": "133d8c8a-8736-4884-bf7d-bc0997fbc023",
   "metadata": {},
   "outputs": [],
   "source": [
    "# This is an optional curl line to download the dataset via the notebook\n",
    "#!curl -O https://raw.githubusercontent.com/OpenMined/design/main/user_tests/manage_data_091b/assets/test_dataset_real_revised.csv"
   ]
  },
  {
   "cell_type": "code",
   "execution_count": null,
   "id": "ff5b431d-3c89-4cf2-a0fd-2a4f8e2e3ebb",
   "metadata": {},
   "outputs": [],
   "source": [
    "# Login to the Datasite as an \"Admin\"\n",
    "admin_client = sy.login(email=\"info@openmined.org\", password=\"changethis\", port=8080)"
   ]
  },
  {
   "cell_type": "code",
   "execution_count": null,
   "id": "092255df-5cc5-40df-af7c-0d1da2496d6e",
   "metadata": {},
   "outputs": [],
   "source": [
    "# Begin mission to upload the dataset to your Datasite\n"
   ]
  },
  {
   "cell_type": "code",
   "execution_count": null,
   "id": "0dcd613a-f0a7-4ecc-9091-a3c4ca26d741",
   "metadata": {},
   "outputs": [],
   "source": []
  },
  {
   "cell_type": "code",
   "execution_count": null,
   "id": "728a143e-509c-45ce-b0fa-9fc274e0ee4b",
   "metadata": {},
   "outputs": [],
   "source": []
  },
  {
   "cell_type": "code",
   "execution_count": null,
   "id": "d6e1b09d-f586-4211-8cae-4f78a1eae9dd",
   "metadata": {},
   "outputs": [],
   "source": [
    "# Add as many cells as you need ^_^"
   ]
  },
  {
   "cell_type": "markdown",
   "id": "0e6554fe-7cf9-434b-8e57-2ca67c6d9af2",
   "metadata": {},
   "source": [
    "### End Part One 🙌\n",
    "Great job completing Part One! Now that you have uploaded your dataset to your Datasite it is time to let our external researcher propose projects off of it. Please run the cell below to beging the second portion of the test. If you run into any issues please notify your moderator."
   ]
  },
  {
   "cell_type": "code",
   "execution_count": null,
   "id": "403b57ee-7638-4e07-8dd2-507e45fb3674",
   "metadata": {},
   "outputs": [],
   "source": [
    "# Run External Researcher Code Submission Script\n",
    "md_setup.code_submission(port= 8080)"
   ]
  },
  {
   "cell_type": "markdown",
   "id": "75a0efd3-a4f7-405d-95e5-2bd48d1d26f6",
   "metadata": {},
   "source": [
    "---\n",
    "### Part Two\n",
    "Our external researcher has submitted a project and code to run against your data. You are now able to review the code submitted and make a decision on whether to approve or deny the requests. Please #comment your thought process as you review. If you get stuck you can use [PySyft's Documentation Site](https://docs.openmined.org/en/latest/getting-started/part4-review-code-request.html) for assistance."
   ]
  },
  {
   "cell_type": "code",
   "execution_count": null,
   "id": "3a4814bd-9b24-4c26-bdb6-45fe780874ec",
   "metadata": {},
   "outputs": [],
   "source": [
    "# Login to the Datasite as an \"Admin\"\n",
    "admin_client = sy.login(email=\"info@openmined.org\", password=\"changethis\", port=8080)"
   ]
  },
  {
   "cell_type": "code",
   "execution_count": null,
   "id": "5b27944e-4f08-486c-8f40-51bad264fd80",
   "metadata": {},
   "outputs": [],
   "source": []
  },
  {
   "cell_type": "code",
   "execution_count": null,
   "id": "c6a54e34-fbfb-45bf-83cd-9d751ef99e12",
   "metadata": {},
   "outputs": [],
   "source": []
  },
  {
   "cell_type": "code",
   "execution_count": null,
   "id": "f1fd0bc0-59e8-468c-86c1-d39e63b7080b",
   "metadata": {},
   "outputs": [],
   "source": []
  },
  {
   "cell_type": "code",
   "execution_count": null,
   "id": "2b47022a-6e09-4886-972a-1ff55519b40c",
   "metadata": {},
   "outputs": [],
   "source": []
  },
  {
   "cell_type": "code",
   "execution_count": null,
   "id": "98800cf5-71d3-4448-bc48-fbf9b7954032",
   "metadata": {},
   "outputs": [],
   "source": [
    "# Add as many cells as you need ^_^"
   ]
  },
  {
   "cell_type": "markdown",
   "id": "5f830fd8-e378-4447-99db-66a1c51ffd89",
   "metadata": {},
   "source": [
    "### End Part Two 🙌\n",
    "Great job! You have just acted out the role of **Data Owner** and have made decisions on what can and cannot be answered about your data. To finish out the test, please see the **Post-Test Response** section below. "
   ]
  },
  {
   "cell_type": "markdown",
   "id": "b7e52a03-269c-4f7a-92fa-e530750c1088",
   "metadata": {},
   "source": [
    "#####\n",
    "---\n",
    "## ✏ Post-Test Response"
   ]
  },
  {
   "cell_type": "markdown",
   "id": "0783ec45-b205-4ac2-9413-7c43313cf6d3",
   "metadata": {},
   "source": [
    "### 1. Post-Test Survey"
   ]
  },
  {
   "cell_type": "markdown",
   "id": "4b2ee796-b3c9-4310-9ec7-d3bcd6fea196",
   "metadata": {},
   "source": [
    "Please **upload your notebook** and tell us about your experience in the [**→→ form here ←←**](https://forms.gle/TTpgEBu2xjh6qoqg6) to conclude the test.\n"
   ]
  },
  {
   "cell_type": "markdown",
   "id": "e9b688ac-e489-4ba1-9da2-eb1fee0d30a4",
   "metadata": {},
   "source": [
    "#####\n",
    "### 🛑 Shutdown Test Environment\n",
    "Run the cell below to shutdown the local instance of the test environment."
   ]
  },
  {
   "cell_type": "code",
   "execution_count": null,
   "id": "1bfb3926-f074-4bb2-9df1-1993e2be998a",
   "metadata": {},
   "outputs": [],
   "source": [
    "# The following command will shutdown the local test server\n",
    "server.land()"
   ]
  },
  {
   "cell_type": "code",
   "execution_count": null,
   "id": "15116f62-eb94-45b9-94b6-efcc62e548d8",
   "metadata": {},
   "outputs": [],
   "source": []
  }
 ],
 "metadata": {
  "kernelspec": {
   "display_name": "syft_090",
   "language": "python",
   "name": "syft_090"
  },
  "language_info": {
   "codemirror_mode": {
    "name": "ipython",
    "version": 3
   },
   "file_extension": ".py",
   "mimetype": "text/x-python",
   "name": "python",
   "nbconvert_exporter": "python",
   "pygments_lexer": "ipython3",
   "version": "3.12.3"
  }
 },
 "nbformat": 4,
 "nbformat_minor": 5
}
